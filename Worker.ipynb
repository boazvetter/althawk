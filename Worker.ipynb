{
 "cells": [
  {
   "cell_type": "markdown",
   "metadata": {},
   "source": [
    "<img src=\"images/splash3.png\">\n",
    "Requests data for the past hour and inserts this into SQL. To be ran hourly."
   ]
  },
  {
   "cell_type": "markdown",
   "metadata": {},
   "source": [
    "## Setup"
   ]
  },
  {
   "cell_type": "code",
   "execution_count": 1,
   "metadata": {},
   "outputs": [],
   "source": [
    "import sqlite3 as lite\n",
    "import sys\n",
    "import coinmarketcap\n",
    "import requests\n",
    "import numpy as np\n",
    "import pandas as pd\n",
    "import datetime\n",
    "import matplotlib\n",
    "import matplotlib.pyplot as plt\n",
    "%matplotlib inline\n",
    "pd.set_option(\"display.max_rows\", 200)"
   ]
  },
  {
   "cell_type": "markdown",
   "metadata": {},
   "source": [
    "## Find tracked coins\n",
    "Checks sql db for table names"
   ]
  },
  {
   "cell_type": "code",
   "execution_count": 2,
   "metadata": {},
   "outputs": [],
   "source": [
    "con = None\n",
    "con = lite.connect('crypto.db')\n",
    "\n",
    "#Read SQL    \n",
    "with con:        \n",
    "    cur = con.cursor()    \n",
    "    #cur.execute(\"SELECT * FROM eth\")\n",
    "    cur.execute(\"SELECT name FROM sqlite_master WHERE type='table'\")\n",
    "\n",
    "\n",
    "    \n",
    "coinlist=[]\n",
    "for rows in cur:\n",
    "    coinlist.append(rows[0])\n",
    "#print(coinlist) #Debug"
   ]
  },
  {
   "cell_type": "markdown",
   "metadata": {},
   "source": [
    "## Fetch data"
   ]
  },
  {
   "cell_type": "code",
   "execution_count": 3,
   "metadata": {
    "scrolled": true
   },
   "outputs": [],
   "source": [
    "def fetch_coindata(symbol, comparison_symbol, limit, aggregate):    \n",
    "    url = 'https://min-api.cryptocompare.com/data/histohour?fsym={}&tsym={}&limit={}&aggregate={}'\\\n",
    "            .format(symbol.upper(), comparison_symbol.upper(), limit, aggregate)       \n",
    "    page = requests.get(url)\n",
    "    data = page.json()['Data']\n",
    "    df = pd.DataFrame(data)\n",
    "    df['mid'] = df[[\"high\", \"low\"]].mean(axis=1)\n",
    "    df['timestamp'] = [datetime.datetime.fromtimestamp(d).strftime('%d-%m-%Y %H:%M:%S') for d in df.time]\n",
    "    return df"
   ]
  },
  {
   "cell_type": "markdown",
   "metadata": {},
   "source": [
    "## Store values to database"
   ]
  },
  {
   "cell_type": "code",
   "execution_count": 4,
   "metadata": {},
   "outputs": [],
   "source": [
    "def write_to_db():\n",
    "    #Connect to DB\n",
    "    con = None\n",
    "    con = lite.connect('crypto.db')\n",
    "\n",
    "    #Dump to SQL\n",
    "    with con:\n",
    "        cur = con.cursor()    \n",
    "        cur.execute(\"SELECT time FROM XEM ORDER BY time DESC LIMIT 1\") # Get the latest\n",
    "        rows = cur.fetchall()\n",
    "        latest_db_entry = list(rows[0])\n",
    "        latest_db_entry = int(latest_db_entry[0])\n",
    "        if latest_db_entry < market_data.iloc[0]['time']:\n",
    "            #print(latest_db_entry, \"is lower than\", market_data.iloc[0]['time'], \"<- Time to write!\") # Debug\n",
    "            market_data.to_sql(name=coinlist[coin], con=con, if_exists='append', index=True)\n",
    "            print(\"wrote to DB for coin\", coinlist[coin]) # Debug \n",
    "        else:\n",
    "            print(latest_db_entry, \"(latest db entry) is the same or higher than\", market_data.iloc[0]['time'], \"(fetched data), skipping write for\", coinlist[coin])        "
   ]
  },
  {
   "cell_type": "code",
   "execution_count": 5,
   "metadata": {
    "scrolled": false
   },
   "outputs": [
    {
     "name": "stdout",
     "output_type": "stream",
     "text": [
      "wrote to DB for coin KCS\n",
      "wrote to DB for coin ETH\n",
      "wrote to DB for coin SC\n",
      "wrote to DB for coin DGB\n",
      "wrote to DB for coin REP\n",
      "wrote to DB for coin DCR\n",
      "wrote to DB for coin PIVX\n",
      "wrote to DB for coin RDD\n",
      "wrote to DB for coin LSK\n",
      "wrote to DB for coin DGD\n",
      "wrote to DB for coin STEEM\n",
      "wrote to DB for coin WAVES\n",
      "wrote to DB for coin DASH\n",
      "wrote to DB for coin ARDR\n",
      "wrote to DB for coin ETC\n",
      "wrote to DB for coin STRAT\n",
      "wrote to DB for coin NEO\n",
      "wrote to DB for coin XZC\n",
      "wrote to DB for coin ZEC\n",
      "wrote to DB for coin GNT\n",
      "wrote to DB for coin MKR\n",
      "wrote to DB for coin KMD\n",
      "wrote to DB for coin NANO\n",
      "wrote to DB for coin ARK\n",
      "wrote to DB for coin SKY\n",
      "wrote to DB for coin RLC\n",
      "wrote to DB for coin QTUM\n",
      "wrote to DB for coin BAT\n",
      "wrote to DB for coin AE\n",
      "wrote to DB for coin VERI\n",
      "wrote to DB for coin BNT\n",
      "wrote to DB for coin GXS\n",
      "wrote to DB for coin FUN\n",
      "wrote to DB for coin SNT\n",
      "wrote to DB for coin EOS\n",
      "wrote to DB for coin GAS\n",
      "wrote to DB for coin PPT\n",
      "wrote to DB for coin OMG\n",
      "wrote to DB for coin ETHOS\n",
      "wrote to DB for coin BCH\n",
      "wrote to DB for coin BNB\n",
      "wrote to DB for coin BTM\n",
      "wrote to DB for coin DCN\n",
      "wrote to DB for coin ZRX\n",
      "wrote to DB for coin HSR\n",
      "wrote to DB for coin VEN\n",
      "wrote to DB for coin NAS\n",
      "wrote to DB for coin WTC\n",
      "wrote to DB for coin LRC\n",
      "wrote to DB for coin TRX\n",
      "wrote to DB for coin LINK\n",
      "wrote to DB for coin KNC\n",
      "wrote to DB for coin SUB\n",
      "wrote to DB for coin KIN\n",
      "wrote to DB for coin SALT\n",
      "wrote to DB for coin LTC\n",
      "wrote to DB for coin ADA\n",
      "wrote to DB for coin RHOC\n",
      "wrote to DB for coin CNX\n",
      "wrote to DB for coin ENG\n",
      "wrote to DB for coin AION\n",
      "wrote to DB for coin BTG\n",
      "wrote to DB for coin ICX\n",
      "wrote to DB for coin MONA\n",
      "wrote to DB for coin QASH\n",
      "wrote to DB for coin BCD\n",
      "wrote to DB for coin DRGN\n",
      "wrote to DB for coin CMT\n",
      "wrote to DB for coin GTO\n",
      "wrote to DB for coin STORM\n",
      "wrote to DB for coin ELF\n",
      "wrote to DB for coin WAX\n",
      "wrote to DB for coin WICC\n",
      "wrote to DB for coin XIN\n",
      "wrote to DB for coin IOST\n",
      "wrote to DB for coin ZIL\n",
      "wrote to DB for coin MAN\n",
      "wrote to DB for coin ELA\n",
      "wrote to DB for coin POLY\n",
      "wrote to DB for coin HT\n",
      "wrote to DB for coin FSN\n",
      "wrote to DB for coin ONT\n",
      "wrote to DB for coin BTCP\n",
      "wrote to DB for coin LOOM\n",
      "wrote to DB for coin WAN\n",
      "wrote to DB for coin MITH\n",
      "wrote to DB for coin CTXC\n",
      "wrote to DB for coin XMR\n",
      "wrote to DB for coin BCN\n",
      "wrote to DB for coin BTS\n",
      "wrote to DB for coin XLM\n",
      "wrote to DB for coin XRP\n",
      "wrote to DB for coin SYS\n",
      "wrote to DB for coin NXT\n",
      "wrote to DB for coin XVG\n",
      "wrote to DB for coin DOGE\n",
      "wrote to DB for coin USDT\n",
      "wrote to DB for coin XEM\n"
     ]
    }
   ],
   "source": [
    "for coin in range(len(coinlist)):\n",
    "    try:\n",
    "        market_data = fetch_coindata(coinlist[coin],'BTC','1','1') # Check what coins are tracked\n",
    "        market_data = market_data.drop(market_data.index[len(market_data)-1]) # Only keep the latest timestamped column\n",
    "        write_to_db()\n",
    "    except Exception as e:\n",
    "        print(\"Skipping coin\", coinlist[coin], \", Error: \")\n",
    "        print(e)\n",
    "        "
   ]
  }
 ],
 "metadata": {
  "kernelspec": {
   "display_name": "Python 3",
   "language": "python",
   "name": "python3"
  },
  "language_info": {
   "codemirror_mode": {
    "name": "ipython",
    "version": 3
   },
   "file_extension": ".py",
   "mimetype": "text/x-python",
   "name": "python",
   "nbconvert_exporter": "python",
   "pygments_lexer": "ipython3",
   "version": "3.5.3"
  }
 },
 "nbformat": 4,
 "nbformat_minor": 2
}
