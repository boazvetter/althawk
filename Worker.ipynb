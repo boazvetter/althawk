{
 "cells": [
  {
   "cell_type": "markdown",
   "metadata": {},
   "source": [
    "<img src=\"images/splash3.png\">\n",
    "Requests data for the past hour and inserts this into SQL. To be ran hourly."
   ]
  },
  {
   "cell_type": "markdown",
   "metadata": {},
   "source": [
    "## Setup"
   ]
  },
  {
   "cell_type": "code",
   "execution_count": 8,
   "metadata": {},
   "outputs": [],
   "source": [
    "import sqlite3 as lite\n",
    "import sys\n",
    "import requests\n",
    "import pandas as pd\n",
    "import datetime\n",
    "import json"
   ]
  },
  {
   "cell_type": "markdown",
   "metadata": {},
   "source": [
    "## Class & function definitions\n"
   ]
  },
  {
   "cell_type": "code",
   "execution_count": 9,
   "metadata": {},
   "outputs": [],
   "source": [
    "class Coin:\n",
    "    def __init__(self, symbol, comparison_symbol, limit, aggregate):\n",
    "        self.symbol = symbol\n",
    "        self.comparison_symbol = comparison_symbol\n",
    "        self.limit = limit\n",
    "        self.aggregate = aggregate\n",
    "        \n",
    "    def fetch_marketdata(self):    \n",
    "        url = 'https://min-api.cryptocompare.com/data/histohour?fsym={}&tsym={}&limit={}&aggregate={}'\\\n",
    "                .format(self.symbol.upper(), self.comparison_symbol.upper(), self.limit, self.aggregate)       \n",
    "        page = requests.get(url)\n",
    "        data = page.json()['Data']\n",
    "        df = pd.DataFrame(data)\n",
    "        df['mid'] = df[[\"high\", \"low\"]].mean(axis=1)\n",
    "        df['timestamp'] = [datetime.datetime.fromtimestamp(d).strftime('%d-%m-%Y %H:%M:%S') for d in df.time]\n",
    "        return df\n",
    "\n",
    "    \n",
    "    \n",
    "def write_to_db(market_data):\n",
    "    con = None\n",
    "    con = lite.connect('crypto.db') #Connect to DB\n",
    "\n",
    "    \n",
    "    with con: #Dump to SQL\n",
    "        cur = con.cursor()\n",
    "        cur.execute(\"SELECT time FROM {} ORDER BY time DESC LIMIT 1\".format(coin_instances[coin].symbol))\n",
    "        rows = cur.fetchall()\n",
    "        latest_db_entry = list(rows[0])\n",
    "        latest_db_entry = int(latest_db_entry[0])\n",
    "        if latest_db_entry < market_data.iloc[0]['time']:\n",
    "            #print(latest_db_entry, \"is lower than\", market_data.iloc[0]['time'], \"<- Time to write!\") # Debug\n",
    "            market_data.to_sql(name=coin_instances[coin].symbol, con=con, if_exists='append', index=True)\n",
    "            #print(\"wrote to DB for coin\", coin_instances[coin].symbol) # Debug \n",
    "        else:\n",
    "            pass\n",
    "            #print(latest_db_entry, \"(latest db entry) is the same or higher than\", market_data.iloc[0]['time'], \"(fetched data), skipping write for\", coinlist[coin])"
   ]
  },
  {
   "cell_type": "markdown",
   "metadata": {},
   "source": [
    "## Fetch data & store in db"
   ]
  },
  {
   "cell_type": "code",
   "execution_count": 10,
   "metadata": {},
   "outputs": [],
   "source": [
    "fh = open(\"tracked_coins.json\", 'r')\n",
    "coinlist = json.load(fh)\n",
    "coin_instances = [Coin(coinlist[coin], 'BTC','1','1') for coin in range(len(coinlist))] # Make objects. Take all coins in coinlist, convert to BTC, poll 1 entry and aggregate per 1-hour period.\n",
    "\n",
    "#Get data\n",
    "for coin in range(len(coin_instances)):\n",
    "    try:\n",
    "        market_data = coin_instances[coin].fetch_marketdata() # Get coindata\n",
    "        market_data = market_data.drop(market_data.index[len(market_data)-1]) # Only keep the latest timestamped column\n",
    "        write_to_db(market_data)\n",
    "    except Exception as e:\n",
    "        print(\"Skipping coin\", coin_instances[coin], \", Error: \")\n",
    "        print(e)"
   ]
  }
 ],
 "metadata": {
  "kernelspec": {
   "display_name": "Python 3",
   "language": "python",
   "name": "python3"
  },
  "language_info": {
   "codemirror_mode": {
    "name": "ipython",
    "version": 3
   },
   "file_extension": ".py",
   "mimetype": "text/x-python",
   "name": "python",
   "nbconvert_exporter": "python",
   "pygments_lexer": "ipython3",
   "version": "3.5.3"
  }
 },
 "nbformat": 4,
 "nbformat_minor": 2
}
