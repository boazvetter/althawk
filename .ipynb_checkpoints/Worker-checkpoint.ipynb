{
 "cells": [
  {
   "cell_type": "markdown",
   "metadata": {},
   "source": [
    "<img src=\"images/splash3.png\">\n",
    "Requests data for the past hour and inserts this into SQL. To be ran hourly."
   ]
  },
  {
   "cell_type": "markdown",
   "metadata": {},
   "source": [
    "## Setup"
   ]
  },
  {
   "cell_type": "code",
   "execution_count": 3,
   "metadata": {},
   "outputs": [],
   "source": [
    "import sqlite3 as lite\n",
    "import sys\n",
    "import coinmarketcap\n",
    "import requests\n",
    "import numpy as np\n",
    "import pandas as pd\n",
    "import datetime\n",
    "import matplotlib\n",
    "import matplotlib.pyplot as plt"
   ]
  },
  {
   "cell_type": "markdown",
   "metadata": {},
   "source": [
    "## Find tracked coins\n",
    "Checks sql db for table names"
   ]
  },
  {
   "cell_type": "code",
   "execution_count": 4,
   "metadata": {},
   "outputs": [],
   "source": [
    "con = None\n",
    "con = lite.connect('crypto.db')\n",
    "\n",
    "#Read SQL    \n",
    "with con:        \n",
    "    cur = con.cursor()    \n",
    "    #cur.execute(\"SELECT * FROM eth\")\n",
    "    cur.execute(\"SELECT name FROM sqlite_master WHERE type='table'\")\n",
    "\n",
    "\n",
    "    \n",
    "coinlist=[]\n",
    "for rows in cur:\n",
    "    coinlist.append(rows[0])\n",
    "#print(coinlist) #Debug"
   ]
  },
  {
   "cell_type": "markdown",
   "metadata": {},
   "source": [
    "## Fetch data"
   ]
  },
  {
   "cell_type": "code",
   "execution_count": 5,
   "metadata": {
    "scrolled": true
   },
   "outputs": [],
   "source": [
    "def fetch_coindata(symbol, comparison_symbol, limit, aggregate):    \n",
    "    url = 'https://min-api.cryptocompare.com/data/histohour?fsym={}&tsym={}&limit={}&aggregate={}'\\\n",
    "            .format(symbol.upper(), comparison_symbol.upper(), limit, aggregate)       \n",
    "    page = requests.get(url)\n",
    "    data = page.json()['Data']\n",
    "    df = pd.DataFrame(data)\n",
    "    df['mid'] = df[[\"high\", \"low\"]].mean(axis=1)\n",
    "    df['timestamp'] = [datetime.datetime.fromtimestamp(d).strftime('%d-%m-%Y %H:%M:%S') for d in df.time]\n",
    "    return df"
   ]
  },
  {
   "cell_type": "markdown",
   "metadata": {},
   "source": [
    "## Store values to database"
   ]
  },
  {
   "cell_type": "code",
   "execution_count": 6,
   "metadata": {},
   "outputs": [],
   "source": [
    "def write_to_db():\n",
    "    #Connect to DB\n",
    "    con = None\n",
    "    con = lite.connect('crypto.db')\n",
    "\n",
    "    #Dump to SQL\n",
    "    with con:\n",
    "        cur = con.cursor()    \n",
    "        cur.execute(\"SELECT time FROM XEM ORDER BY time DESC LIMIT 1\") # Get the latest\n",
    "        rows = cur.fetchall()\n",
    "        latest_db_entry = list(rows[0])\n",
    "        latest_db_entry = int(latest_db_entry[0])\n",
    "        if latest_db_entry < market_data.iloc[0]['time']:\n",
    "            #print(latest_db_entry, \"is lower than\", market_data.iloc[0]['time'], \"<- Time to write!\") # Debug\n",
    "            market_data.to_sql(name=coinlist[coin], con=con, if_exists='append', index=True)\n",
    "            #print(\"wrote to DB for coin\", coinlist[coin]) # Debug \n",
    "        else:\n",
    "            pass\n",
    "            #print(latest_db_entry, \"(latest db entry) is the same or higher than\", market_data.iloc[0]['time'], \"(fetched data), skipping write for\", coinlist[coin])        "
   ]
  },
  {
   "cell_type": "code",
   "execution_count": 7,
   "metadata": {
    "scrolled": false
   },
   "outputs": [],
   "source": [
    "for coin in range(len(coinlist)):\n",
    "    try:\n",
    "        market_data = fetch_coindata(coinlist[coin],'BTC','1','1') # Check what coins are tracked\n",
    "        market_data = market_data.drop(market_data.index[len(market_data)-1]) # Only keep the latest timestamped column\n",
    "        write_to_db()\n",
    "    except Exception as e:\n",
    "        print(\"Skipping coin\", coinlist[coin], \", Error: \")\n",
    "        print(e)\n",
    "        "
   ]
  }
 ],
 "metadata": {
  "kernelspec": {
   "display_name": "Python 3",
   "language": "python",
   "name": "python3"
  },
  "language_info": {
   "codemirror_mode": {
    "name": "ipython",
    "version": 3
   },
   "file_extension": ".py",
   "mimetype": "text/x-python",
   "name": "python",
   "nbconvert_exporter": "python",
   "pygments_lexer": "ipython3",
   "version": "3.5.3"
  }
 },
 "nbformat": 4,
 "nbformat_minor": 2
}
