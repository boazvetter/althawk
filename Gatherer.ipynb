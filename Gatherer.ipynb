{
 "cells": [
  {
   "cell_type": "markdown",
   "metadata": {},
   "source": [
    "<img src=\"images/splash3.png\">\n",
    "Grabs price and volume for the top 100 cryptos for the past 3 months"
   ]
  },
  {
   "cell_type": "markdown",
   "metadata": {},
   "source": [
    "## Setup"
   ]
  },
  {
   "cell_type": "code",
   "execution_count": 1,
   "metadata": {},
   "outputs": [],
   "source": [
    "import sqlite3 as lite\n",
    "import sys\n",
    "import coinmarketcap\n",
    "import requests\n",
    "import numpy as np\n",
    "import pandas as pd\n",
    "import datetime\n",
    "import matplotlib\n",
    "import matplotlib.pyplot as plt\n",
    "%matplotlib inline\n",
    "pd.set_option(\"display.max_rows\", 200)"
   ]
  },
  {
   "cell_type": "markdown",
   "metadata": {},
   "source": [
    "## Fetch data\n",
    "Uses cryptocompare API to get historical data for target coin the last 3 months, coinmarketcap api to get top-100 coin names. Timestamps are in unix (GMT)."
   ]
  },
  {
   "cell_type": "code",
   "execution_count": 2,
   "metadata": {
    "scrolled": true
   },
   "outputs": [],
   "source": [
    "def fetch_top100():\n",
    "    url = 'https://api.coinmarketcap.com/v2/ticker/'\n",
    "    page = requests.get(url)\n",
    "    data = page.json()['data']\n",
    "    coinlist = pd.DataFrame(data)\n",
    "    return coinlist"
   ]
  },
  {
   "cell_type": "code",
   "execution_count": 3,
   "metadata": {
    "scrolled": true
   },
   "outputs": [],
   "source": [
    "def fetch_coindata(symbol, comparison_symbol, limit, aggregate):    \n",
    "    url = 'https://min-api.cryptocompare.com/data/histohour?fsym={}&tsym={}&limit={}&aggregate={}'\\\n",
    "            .format(symbol.upper(), comparison_symbol.upper(), limit, aggregate)       \n",
    "    page = requests.get(url)\n",
    "    data = page.json()['Data']\n",
    "    df = pd.DataFrame(data)\n",
    "    df['mid'] = df[[\"high\", \"low\"]].mean(axis=1)\n",
    "    df['timestamp'] = [datetime.datetime.fromtimestamp(d).strftime('%d-%m-%Y %H:%M:%S') for d in df.time]\n",
    "    #df = df.set_index('timestamp')        \n",
    "    return df"
   ]
  },
  {
   "cell_type": "markdown",
   "metadata": {},
   "source": [
    "## Store values to database"
   ]
  },
  {
   "cell_type": "code",
   "execution_count": 4,
   "metadata": {},
   "outputs": [],
   "source": [
    "def write_to_db():\n",
    "    #Connect to DB\n",
    "    con = None\n",
    "    con = lite.connect('crypto.db')\n",
    "\n",
    "    #Dump to SQL\n",
    "    with con:\n",
    "        market_data.to_sql(name=top_coins[symbol], con=con, if_exists='replace', index=True)\n",
    "\n",
    "    \"\"\"\"\n",
    "    #Read SQL    \n",
    "    with con:        \n",
    "        cur = con.cursor()    \n",
    "        cur.execute(\"SELECT * FROM btc\")\n",
    "\n",
    "        rows = cur.fetchall()\n",
    "\n",
    "        for row in rows:\n",
    "            print(row)  \n",
    "    \"\"\""
   ]
  },
  {
   "cell_type": "code",
   "execution_count": 8,
   "metadata": {
    "scrolled": false
   },
   "outputs": [
    {
     "name": "stdout",
     "output_type": "stream",
     "text": [
      "Error noticed, skipping coin  MIOTA\n",
      "Error noticed, skipping coin  CENNZ\n",
      "Success!\n"
     ]
    }
   ],
   "source": [
    "top_coins = fetch_top100().loc['symbol']\n",
    "\n",
    "for symbol in range(1, 100):\n",
    "    try:\n",
    "        market_data = fetch_coindata(top_coins[symbol],'BTC','2000','12')\n",
    "        market_data = market_data.drop(market_data.index[len(market_data)-1]) # Only keep the latest timestamped column\n",
    "        write_to_db()\n",
    "    except:\n",
    "        print(\"Error noticed, skipping coin \", top_coins[symbol])\n",
    "        \n",
    "print(\"Success!\")"
   ]
  }
 ],
 "metadata": {
  "kernelspec": {
   "display_name": "Python 3",
   "language": "python",
   "name": "python3"
  },
  "language_info": {
   "codemirror_mode": {
    "name": "ipython",
    "version": 3
   },
   "file_extension": ".py",
   "mimetype": "text/x-python",
   "name": "python",
   "nbconvert_exporter": "python",
   "pygments_lexer": "ipython3",
   "version": "3.5.3"
  }
 },
 "nbformat": 4,
 "nbformat_minor": 2
}
